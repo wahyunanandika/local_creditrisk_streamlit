{
 "cells": [
  {
   "cell_type": "code",
   "execution_count": 3,
   "metadata": {},
   "outputs": [],
   "source": [
    "import sys\n",
    "sys.path.insert(0, 'src') \n",
    "\n",
    "from src.utils import load_data, split_input_output, split_train_test, serialize_data, deserialize_data\n"
   ]
  },
  {
   "cell_type": "code",
   "execution_count": 4,
   "metadata": {},
   "outputs": [
    {
     "name": "stdout",
     "output_type": "stream",
     "text": [
      "Original data shape: (32581, 12)\n",
      "X data shape: (32581, 11)\n",
      "y data shape: (32581,)\n",
      "X train shape: (26064, 11)\n",
      "X test shape: (6517, 11)\n",
      "y train shape: (26064,)\n",
      "y test shape: (6517,)\n"
     ]
    }
   ],
   "source": [
    "data = load_data('data/raw/credit_risk_dataset.csv')  \n",
    "\n",
    "X, y = split_input_output(data, target_col='loan_status')\n",
    "\n",
    "X_train, X_test, y_train, y_test = split_train_test(X, y, test_size=0.2, random_state=42)\n",
    "\n",
    "serialize_data(X_train, \"data/interim/X_train.pkl\")\n",
    "serialize_data(y_train, \"data/interim/y_train.pkl\")\n"
   ]
  },
  {
   "cell_type": "markdown",
   "metadata": {},
   "source": [
    "![screen shot utils works](screenshot_utils_works.png)"
   ]
  }
 ],
 "metadata": {
  "kernelspec": {
   "display_name": "Python 3",
   "language": "python",
   "name": "python3"
  },
  "language_info": {
   "codemirror_mode": {
    "name": "ipython",
    "version": 3
   },
   "file_extension": ".py",
   "mimetype": "text/x-python",
   "name": "python",
   "nbconvert_exporter": "python",
   "pygments_lexer": "ipython3",
   "version": "3.12.6"
  }
 },
 "nbformat": 4,
 "nbformat_minor": 2
}
